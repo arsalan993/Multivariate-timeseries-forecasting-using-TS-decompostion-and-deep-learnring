{
 "cells": [
  {
   "cell_type": "code",
   "execution_count": 1,
   "metadata": {},
   "outputs": [
    {
     "name": "stderr",
     "output_type": "stream",
     "text": [
      "Using TensorFlow backend.\n",
      "C:\\ProgramData\\Anaconda3\\lib\\site-packages\\requests\\__init__.py:80: RequestsDependencyWarning: urllib3 (1.23) or chardet (3.0.4) doesn't match a supported version!\n",
      "  RequestsDependencyWarning)\n"
     ]
    }
   ],
   "source": [
    "import pandas as pd \n",
    "import numpy as np\n",
    "from keras.models import model_from_json\n",
    "import datetime\n",
    "import io\n",
    "from urllib.request import urlopen\n",
    "from itertools import islice\n",
    "from stldecompose import decompose\n",
    "from matplotlib import pyplot as plt"
   ]
  },
  {
   "cell_type": "code",
   "execution_count": 2,
   "metadata": {},
   "outputs": [],
   "source": [
    "def rolling_window(a, window, step_size):\n",
    "    shape = a.shape[:-1] + (a.shape[-1] - window +2  - step_size, window)\n",
    "    strides = a.strides + (a.strides[-1] * step_size,)\n",
    "    return np.lib.stride_tricks.as_strided(a, shape=shape, strides=strides)"
   ]
  },
  {
   "cell_type": "code",
   "execution_count": 3,
   "metadata": {},
   "outputs": [],
   "source": [
    "in_win = 15\n",
    "out_win = 12"
   ]
  },
  {
   "cell_type": "code",
   "execution_count": 4,
   "metadata": {},
   "outputs": [],
   "source": [
    "# Model reconstruction from JSON file\n",
    "with open('model_architecture.json', 'r') as f:\n",
    "    model = model_from_json(f.read())\n",
    "\n",
    "# Load weights into the new model\n",
    "model.load_weights('model_weights.h5')"
   ]
  },
  {
   "cell_type": "markdown",
   "metadata": {},
   "source": [
    "### Selecting 1 years time frame till last day"
   ]
  },
  {
   "cell_type": "code",
   "execution_count": 5,
   "metadata": {},
   "outputs": [],
   "source": [
    "e_date = datetime.date.today()-datetime.timedelta(1)\n",
    "s_date = datetime.date.today()-datetime.timedelta(367)\n",
    "#sp_date = datetime.date.today()-datetime.timedelta(7)\n",
    "end_date = str(e_date.year) + str(e_date.strftime('%m')) + str(e_date.strftime('%d'))\n",
    "start_date = str(s_date.year) + str(s_date.strftime('%m')) + str(s_date.strftime('%d'))\n",
    "#split_date = str(sp_date.year) + '-' + str(sp_date.strftime('%m')) + '-' + str(sp_date.strftime('%d'))\n"
   ]
  },
  {
   "cell_type": "markdown",
   "metadata": {},
   "source": [
    "#### Select currency"
   ]
  },
  {
   "cell_type": "code",
   "execution_count": 6,
   "metadata": {},
   "outputs": [],
   "source": [
    "currency = \"bitcoin\""
   ]
  },
  {
   "cell_type": "code",
   "execution_count": 7,
   "metadata": {},
   "outputs": [
    {
     "data": {
      "text/html": [
       "<div>\n",
       "<style scoped>\n",
       "    .dataframe tbody tr th:only-of-type {\n",
       "        vertical-align: middle;\n",
       "    }\n",
       "\n",
       "    .dataframe tbody tr th {\n",
       "        vertical-align: top;\n",
       "    }\n",
       "\n",
       "    .dataframe thead th {\n",
       "        text-align: right;\n",
       "    }\n",
       "</style>\n",
       "<table border=\"1\" class=\"dataframe\">\n",
       "  <thead>\n",
       "    <tr style=\"text-align: right;\">\n",
       "      <th></th>\n",
       "      <th>Date</th>\n",
       "      <th>Open*</th>\n",
       "      <th>High</th>\n",
       "      <th>Low</th>\n",
       "      <th>Close**</th>\n",
       "      <th>Volume</th>\n",
       "      <th>Market Cap</th>\n",
       "    </tr>\n",
       "  </thead>\n",
       "  <tbody>\n",
       "    <tr>\n",
       "      <th>0</th>\n",
       "      <td>2017-09-27</td>\n",
       "      <td>3892.94</td>\n",
       "      <td>4210.05</td>\n",
       "      <td>3884.82</td>\n",
       "      <td>4200.67</td>\n",
       "      <td>1686880000</td>\n",
       "      <td>64579231744</td>\n",
       "    </tr>\n",
       "    <tr>\n",
       "      <th>1</th>\n",
       "      <td>2017-09-28</td>\n",
       "      <td>4197.13</td>\n",
       "      <td>4279.31</td>\n",
       "      <td>4109.70</td>\n",
       "      <td>4174.73</td>\n",
       "      <td>1712320000</td>\n",
       "      <td>69633212416</td>\n",
       "    </tr>\n",
       "    <tr>\n",
       "      <th>2</th>\n",
       "      <td>2017-09-29</td>\n",
       "      <td>4171.62</td>\n",
       "      <td>4214.63</td>\n",
       "      <td>4039.29</td>\n",
       "      <td>4163.07</td>\n",
       "      <td>1367049984</td>\n",
       "      <td>69219221504</td>\n",
       "    </tr>\n",
       "    <tr>\n",
       "      <th>3</th>\n",
       "      <td>2017-09-30</td>\n",
       "      <td>4166.11</td>\n",
       "      <td>4358.43</td>\n",
       "      <td>4160.86</td>\n",
       "      <td>4338.71</td>\n",
       "      <td>1207449984</td>\n",
       "      <td>69136629760</td>\n",
       "    </tr>\n",
       "    <tr>\n",
       "      <th>4</th>\n",
       "      <td>2017-10-01</td>\n",
       "      <td>4341.05</td>\n",
       "      <td>4403.74</td>\n",
       "      <td>4269.81</td>\n",
       "      <td>4403.74</td>\n",
       "      <td>1208210048</td>\n",
       "      <td>72047304704</td>\n",
       "    </tr>\n",
       "  </tbody>\n",
       "</table>\n",
       "</div>"
      ],
      "text/plain": [
       "        Date    Open*     High      Low  Close**      Volume   Market Cap\n",
       "0 2017-09-27  3892.94  4210.05  3884.82  4200.67  1686880000  64579231744\n",
       "1 2017-09-28  4197.13  4279.31  4109.70  4174.73  1712320000  69633212416\n",
       "2 2017-09-29  4171.62  4214.63  4039.29  4163.07  1367049984  69219221504\n",
       "3 2017-09-30  4166.11  4358.43  4160.86  4338.71  1207449984  69136629760\n",
       "4 2017-10-01  4341.05  4403.74  4269.81  4403.74  1208210048  72047304704"
      ]
     },
     "execution_count": 7,
     "metadata": {},
     "output_type": "execute_result"
    }
   ],
   "source": [
    "data_bt = pd.read_html(\"https://coinmarketcap.com/currencies/\" + currency +\"/historical-data/?start=\" + start_date + \"&end=\" + end_date)[0]\n",
    "data_bt['Date'] = pd.to_datetime(data_bt['Date'])\n",
    "data_bt = data_bt.sort_values(by=['Date']).reset_index(drop=True)\n",
    "data_bt.head()"
   ]
  },
  {
   "cell_type": "code",
   "execution_count": 8,
   "metadata": {},
   "outputs": [],
   "source": [
    "date_col = pd.to_datetime(data_bt[\"Date\"])\n",
    "data_open = data_bt[\"Open*\"]\n",
    "data_high = data_bt[\"High\"]\n",
    "data_low = data_bt[\"Low\"]\n",
    "data_close = data_bt[\"Close**\"]\n",
    "data_vol = data_bt[\"Volume\"]\n",
    "data_mark = data_bt[\"Market Cap\"]"
   ]
  },
  {
   "cell_type": "markdown",
   "metadata": {},
   "source": [
    "### Log Transforming, Decomposing , deseasonalizing and normalizing the input"
   ]
  },
  {
   "cell_type": "code",
   "execution_count": 9,
   "metadata": {},
   "outputs": [],
   "source": [
    "log_open = np.log(data_open)\n",
    "log_high = np.log(data_high)\n",
    "log_low = np.log(data_low)\n",
    "log_close = np.log(data_close)\n",
    "log_vol = np.log(data_vol)\n",
    "log_mark = np.log(data_mark)"
   ]
  },
  {
   "cell_type": "code",
   "execution_count": 10,
   "metadata": {},
   "outputs": [],
   "source": [
    "log_open = pd.DataFrame(log_open)\n",
    "log_open = log_open.set_index(date_col)\n",
    "\n",
    "log_high = pd.DataFrame(log_high)\n",
    "log_high = log_high.set_index(date_col)\n",
    "\n",
    "log_low = pd.DataFrame(log_low)\n",
    "log_low = log_low.set_index(date_col)\n",
    "\n",
    "log_close = pd.DataFrame(log_close)\n",
    "log_close = log_close.set_index(date_col)\n",
    "\n",
    "log_vol = pd.DataFrame(log_vol)\n",
    "log_vol = log_vol.set_index(date_col)\n",
    "\n",
    "log_mark = pd.DataFrame(log_mark)\n",
    "log_mark = log_mark.set_index(date_col)"
   ]
  },
  {
   "cell_type": "code",
   "execution_count": 11,
   "metadata": {},
   "outputs": [],
   "source": [
    "stl_open = decompose(log_open)\n",
    "stl_high = decompose(log_high)\n",
    "stl_low = decompose(log_low)\n",
    "stl_close = decompose(log_close)\n",
    "stl_vol = decompose(log_vol)\n",
    "stl_mark = decompose(log_mark)"
   ]
  },
  {
   "cell_type": "code",
   "execution_count": 12,
   "metadata": {},
   "outputs": [],
   "source": [
    "deseason_open  = (stl_open.resid + stl_open.trend).iloc[:,0]\n",
    "deseason_high  = (stl_high.resid + stl_high.trend).iloc[:,0]\n",
    "deseason_low   = (stl_low.resid + stl_low.trend).iloc[:,0]\n",
    "deseason_close = (stl_close.resid + stl_close.trend).iloc[:,0]\n",
    "deseason_vol   = (stl_vol.resid + stl_vol.trend).iloc[:,0]\n",
    "deseason_mark  = (stl_mark.resid + stl_mark.trend).iloc[:,0]"
   ]
  },
  {
   "cell_type": "code",
   "execution_count": 13,
   "metadata": {},
   "outputs": [
    {
     "name": "stdout",
     "output_type": "stream",
     "text": [
      "(15, 1)\n",
      "(1, 15, 1)\n"
     ]
    },
    {
     "name": "stderr",
     "output_type": "stream",
     "text": [
      "C:\\ProgramData\\Anaconda3\\lib\\site-packages\\ipykernel\\__main__.py:2: DeprecationWarning: Both axis > a.ndim and axis < -a.ndim - 1 are deprecated and will raise an AxisError in the future.\n",
      "  from ipykernel import kernelapp as app\n"
     ]
    }
   ],
   "source": [
    "date_col_win_in = date_col[(len(date_col)-in_win):len(date_col)]\n",
    "date_col_win_in_exp = np.expand_dims(date_col_win_in, axis=2)\n",
    "date_col_win_in_exp = np.expand_dims(date_col_win_in_exp, axis=0)\n",
    "\n",
    "data_open_win_in = deseason_open[(len(deseason_open)-in_win):len(deseason_open)]\n",
    "data_open_win_in = pd.DataFrame(data_open_win_in) \n",
    "norm_open_win_in = data_open_win_in.subtract(data_open_win_in.iloc[in_win-1], axis='columns')\n",
    "print(norm_open_win_in.shape)\n",
    "norm_open_win_in_exp = np.expand_dims(norm_open_win_in.values, axis=0)\n",
    "print(norm_open_win_in_exp.shape)\n",
    "\n",
    "data_high_win_in = deseason_high[(len(deseason_high)-in_win):len(deseason_high)]\n",
    "data_high_win_in = pd.DataFrame(data_high_win_in) \n",
    "norm_high_win_in = data_high_win_in.subtract(data_high_win_in.iloc[in_win-1], axis='columns')\n",
    "norm_high_win_in_exp = np.expand_dims(norm_high_win_in.values, axis=0)\n",
    "\n",
    "data_low_win_in = deseason_low[(len(deseason_low)-in_win):len(deseason_low)]\n",
    "data_low_win_in = pd.DataFrame(data_low_win_in) \n",
    "norm_low_win_in = data_low_win_in.subtract(data_low_win_in.iloc[in_win-1], axis='columns')\n",
    "norm_low_win_in_exp = np.expand_dims(norm_low_win_in.values, axis=0)\n",
    "\n",
    "data_close_win_in = deseason_close[(len(deseason_close)-in_win):len(deseason_close)]\n",
    "data_close_win_in = pd.DataFrame(data_close_win_in) \n",
    "norm_close_win_in = data_close_win_in.subtract(data_close_win_in.iloc[in_win-1], axis='columns')\n",
    "norm_close_win_in_exp = np.expand_dims(norm_close_win_in.values, axis=0)\n",
    "\n",
    "data_vol_win_in = deseason_vol[(len(deseason_vol)-in_win):len(deseason_vol)]\n",
    "data_vol_win_in = pd.DataFrame(data_vol_win_in) \n",
    "norm_vol_win_in = data_vol_win_in.subtract(data_vol_win_in.iloc[in_win-1], axis='columns')\n",
    "norm_vol_win_in_exp = np.expand_dims(norm_vol_win_in.values, axis=0)\n",
    "\n",
    "data_mark_win_in = deseason_mark[(len(deseason_mark)-in_win):len(deseason_mark)]\n",
    "data_mark_win_in = pd.DataFrame(data_mark_win_in) \n",
    "norm_mark_win_in = data_mark_win_in.subtract(data_mark_win_in.iloc[in_win-1], axis='columns')\n",
    "norm_mark_win_in_exp = np.expand_dims(norm_mark_win_in.values, axis=0)\n"
   ]
  },
  {
   "cell_type": "markdown",
   "metadata": {},
   "source": [
    "### Stacking all inputs together"
   ]
  },
  {
   "cell_type": "code",
   "execution_count": 14,
   "metadata": {},
   "outputs": [
    {
     "data": {
      "text/plain": [
       "(1, 15, 6)"
      ]
     },
     "execution_count": 14,
     "metadata": {},
     "output_type": "execute_result"
    }
   ],
   "source": [
    "x_all = np.dstack((norm_open_win_in_exp, norm_high_win_in_exp, norm_low_win_in_exp\n",
    "                   ,norm_close_win_in_exp, norm_vol_win_in_exp, norm_mark_win_in_exp))\n",
    "x_all.shape"
   ]
  },
  {
   "cell_type": "markdown",
   "metadata": {},
   "source": [
    "### Carrying out prediction"
   ]
  },
  {
   "cell_type": "code",
   "execution_count": 15,
   "metadata": {},
   "outputs": [],
   "source": [
    "y_pred = model.predict(x_all)"
   ]
  },
  {
   "cell_type": "markdown",
   "metadata": {},
   "source": [
    "### Taking seasonality of past 12 days"
   ]
  },
  {
   "cell_type": "code",
   "execution_count": 16,
   "metadata": {},
   "outputs": [],
   "source": [
    "season_high = stl_high.seasonal\n",
    "season_high = season_high[(len(season_high)-out_win):len(season_high)]\n",
    "\n",
    "season_low = stl_low.seasonal\n",
    "season_low = season_low[(len(season_low)-out_win):len(season_low)]\n",
    "\n",
    "season_close = stl_close.seasonal\n",
    "season_close = season_close[(len(season_close)-out_win):len(season_close)]\n"
   ]
  },
  {
   "cell_type": "markdown",
   "metadata": {},
   "source": [
    "### Renormalizing, Reseasonalizing and antilog of prediction"
   ]
  },
  {
   "cell_type": "code",
   "execution_count": 17,
   "metadata": {},
   "outputs": [],
   "source": [
    "high_pred  = pd.DataFrame(y_pred[:,:,0])\n",
    "low_pred   = pd.DataFrame(y_pred[:,:,1])\n",
    "close_pred = pd.DataFrame(y_pred[:,:,2])"
   ]
  },
  {
   "cell_type": "code",
   "execution_count": 18,
   "metadata": {},
   "outputs": [],
   "source": [
    "high_denorm_pred  = high_pred.add(data_open_win_in.iloc[in_win-1].reset_index(drop=True), axis='index')\n",
    "low_denorm_pred   = low_pred.add(data_open_win_in.iloc[in_win-1].reset_index(drop=True), axis='index')\n",
    "close_denorm_pred = close_pred.add(data_open_win_in.iloc[in_win-1].reset_index(drop=True), axis='index')"
   ]
  },
  {
   "cell_type": "code",
   "execution_count": 19,
   "metadata": {},
   "outputs": [],
   "source": [
    "deseason_high_pred  = high_denorm_pred.add(season_high.iloc[:,0].reset_index(drop=True), axis='columns')\n",
    "deseason_low_pred   = low_denorm_pred.add(season_low.iloc[:,0].reset_index(drop=True), axis='columns')\n",
    "deseason_close_pred = close_denorm_pred.add(season_close.iloc[:,0].reset_index(drop=True), axis='columns')"
   ]
  },
  {
   "cell_type": "code",
   "execution_count": 20,
   "metadata": {},
   "outputs": [],
   "source": [
    "pred_high  = np.exp(deseason_high_pred)\n",
    "pred_low   = np.exp(deseason_low_pred)\n",
    "pred_close = np.exp(deseason_close_pred)"
   ]
  },
  {
   "cell_type": "code",
   "execution_count": 32,
   "metadata": {},
   "outputs": [],
   "source": [
    "%matplotlib qt\n",
    "plt.figure()\n",
    "plt.plot(pred_high.T)\n",
    "plt.figure()\n",
    "plt.plot(pred_low.T)\n",
    "plt.figure()\n",
    "plt.plot(pred_close.T)\n",
    "plt.show()"
   ]
  },
  {
   "cell_type": "code",
   "execution_count": null,
   "metadata": {},
   "outputs": [],
   "source": []
  }
 ],
 "metadata": {
  "kernelspec": {
   "display_name": "Python [default]",
   "language": "python",
   "name": "python3"
  },
  "language_info": {
   "codemirror_mode": {
    "name": "ipython",
    "version": 3
   },
   "file_extension": ".py",
   "mimetype": "text/x-python",
   "name": "python",
   "nbconvert_exporter": "python",
   "pygments_lexer": "ipython3",
   "version": "3.6.5"
  }
 },
 "nbformat": 4,
 "nbformat_minor": 2
}
